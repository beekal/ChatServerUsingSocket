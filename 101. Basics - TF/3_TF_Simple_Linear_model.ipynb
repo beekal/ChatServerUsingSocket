{
  "nbformat": 4,
  "nbformat_minor": 0,
  "metadata": {
    "colab": {
      "name": "3. TF -   Simple Linear model ",
      "version": "0.3.2",
      "provenance": [],
      "collapsed_sections": [],
      "include_colab_link": true
    },
    "kernelspec": {
      "name": "python3",
      "display_name": "Python 3"
    }
  },
  "cells": [
    {
      "cell_type": "markdown",
      "metadata": {
        "id": "view-in-github",
        "colab_type": "text"
      },
      "source": [
        "<a href=\"https://colab.research.google.com/github/beekal/ChatServerUsingSocket/blob/master/101.%20Basics%20-%20TF/3_TF_Simple_Linear_model.ipynb\" target=\"_parent\"><img src=\"https://colab.research.google.com/assets/colab-badge.svg\" alt=\"Open In Colab\"/></a>"
      ]
    },
    {
      "cell_type": "markdown",
      "metadata": {
        "id": "Umtg6mfckT30",
        "colab_type": "text"
      },
      "source": [
        " ## 1.0 Tensor Flow Basics \n",
        " "
      ]
    },
    {
      "cell_type": "code",
      "metadata": {
        "id": "INxHYxhMkONq",
        "colab_type": "code",
        "outputId": "813b200e-9db5-47c3-e3e5-c969f1cec261",
        "colab": {
          "base_uri": "https://localhost:8080/",
          "height": 36
        }
      },
      "source": [
        "###############\n",
        "#1. Import libraries\n",
        "###########\n",
        "import tensorflow as tf\n",
        "\n",
        "################\n",
        "# Define Program\n",
        "##############\n",
        "# Define X, y\n",
        "x = tf.placeholder(tf.float32)\n",
        "y = tf.placeholder(tf.float32)\n",
        "\n",
        "# define variables\n",
        "bias = tf.Variable(0.0)\n",
        "\n",
        "# define prediction function n loss function\n",
        "y_pred = tf.pow(x, 2) + bias\n",
        "loss =  tf.abs(y_pred - y )\n",
        "\n",
        "\n",
        "#############\n",
        "# Session initialisation\n",
        "################\n",
        "sess =  tf.Session()\n",
        "#run session by initialising all variables\n",
        "sess.run( tf.initialize_all_variables() )\n",
        "\n",
        "\n",
        "##############\n",
        "# Session run\n",
        "#############\n",
        "#try:\n",
        "print(sess.run(loss, {x:  3.0, y :  9.0}))\n",
        "#except:\n",
        "#  print('Error in the session code.')"
      ],
      "execution_count": 0,
      "outputs": [
        {
          "output_type": "stream",
          "text": [
            "0.0\n"
          ],
          "name": "stdout"
        }
      ]
    },
    {
      "cell_type": "markdown",
      "metadata": {
        "id": "mYWN1VM5kTQY",
        "colab_type": "text"
      },
      "source": [
        "**2.0  Handling Categorical variables**"
      ]
    },
    {
      "cell_type": "code",
      "metadata": {
        "id": "piUHnTkzJFKB",
        "colab_type": "code",
        "colab": {}
      },
      "source": [
        "import tensorflow as tf"
      ],
      "execution_count": 0,
      "outputs": []
    },
    {
      "cell_type": "code",
      "metadata": {
        "id": "ofubV6fXId8r",
        "colab_type": "code",
        "outputId": "983d1813-0f77-48b5-d3e3-bf3519a44491",
        "colab": {
          "base_uri": "https://localhost:8080/",
          "height": 91
        }
      },
      "source": [
        "########\n",
        "# Data\n",
        "##########\n",
        "data = {\n",
        "        'sales': [5,10,8,9],\n",
        "        'dept' : ['sports', 'sports','gardening','gardening' ]\n",
        "      }\n",
        "########\n",
        "# Tensorflow Feature encoding\n",
        "###############\n",
        "dept_col = tf.feature_column.categorical_column_with_vocabulary_list(\n",
        "          'dept',['sports','gardening'] )\n",
        "#dept_col = tf.feature_column.indicator_column(dept_col)\n",
        "col_defn = [ tf.feature_column.numeric_column('sales'),\n",
        "             tf.feature_column.indicator_column(dept_col) ]\n",
        "\n",
        "X = tf.feature_column.input_layer( data, col_defn )\n",
        "\n",
        "##########\n",
        "# Tensorflow variable intialisation\n",
        "############\n",
        "var_init = tf.global_variables_initializer()\n",
        "tbl_init = tf.tables_initializer()\n",
        "sess = tf.Session()\n",
        "sess.run((var_init, tbl_init))\n",
        "\n",
        "#######\n",
        "# Run session (Tensorflow)\n",
        "#######\n",
        "print(sess.run(X))"
      ],
      "execution_count": 0,
      "outputs": [
        {
          "output_type": "stream",
          "text": [
            "[[ 1.  0.  5.]\n",
            " [ 1.  0. 10.]\n",
            " [ 0.  1.  8.]\n",
            " [ 0.  1.  9.]]\n"
          ],
          "name": "stdout"
        }
      ]
    },
    {
      "cell_type": "markdown",
      "metadata": {
        "id": "l-fSNshWijxg",
        "colab_type": "text"
      },
      "source": [
        "**# 2.1 A simple linear model**\n",
        "\n",
        "1. No Optimisation"
      ]
    },
    {
      "cell_type": "code",
      "metadata": {
        "id": "gQ_fZEaEgL3n",
        "colab_type": "code",
        "outputId": "1d096c47-17d0-4264-d608-88e5dbebda2d",
        "colab": {
          "base_uri": "https://localhost:8080/",
          "height": 91
        }
      },
      "source": [
        "#X = tf.feature_column.input_layer( data, col_defn )\n",
        "y = tf.constant([ [0],[-1],[-2],[-3] ], dtype=tf.float32)\n",
        "\n",
        "##Model\n",
        "linear_model = tf.layers.Dense(units = 1)\n",
        "y_pred = linear_model(X)\n",
        "\n",
        "\n",
        "##########\n",
        "# Tensorflow variable intialisation\n",
        "############\n",
        "var_init = tf.global_variables_initializer()\n",
        "tbl_init = tf.tables_initializer()\n",
        "sess = tf.Session()\n",
        "sess.run((var_init, tbl_init))\n",
        "\n",
        "print(sess.run(y_pred))"
      ],
      "execution_count": 0,
      "outputs": [
        {
          "output_type": "stream",
          "text": [
            "[[2.0081606]\n",
            " [4.2850294]\n",
            " [3.8635886]\n",
            " [4.318962 ]]\n"
          ],
          "name": "stdout"
        }
      ]
    },
    {
      "cell_type": "markdown",
      "metadata": {
        "id": "Kb6VzF4XlWss",
        "colab_type": "text"
      },
      "source": [
        "**# 2.2  Loss Defn**"
      ]
    },
    {
      "cell_type": "code",
      "metadata": {
        "id": "owttY3yfioU3",
        "colab_type": "code",
        "outputId": "7aa35261-8a4e-4748-e1af-4eb68bd1d1ad",
        "colab": {
          "base_uri": "https://localhost:8080/",
          "height": 36
        }
      },
      "source": [
        "loss = tf.losses.mean_squared_error(labels= y, predictions= y_pred)\n",
        "\n",
        "print(sess.run(loss))"
      ],
      "execution_count": 0,
      "outputs": [
        {
          "output_type": "stream",
          "text": [
            "29.978281\n"
          ],
          "name": "stdout"
        }
      ]
    },
    {
      "cell_type": "markdown",
      "metadata": {
        "id": "MfzncKsvm8RE",
        "colab_type": "text"
      },
      "source": [
        "**# 2.3 Optimisers**\n",
        "\n",
        "The optmisers act on each variable incrementally changing them to minimise the loss function."
      ]
    },
    {
      "cell_type": "code",
      "metadata": {
        "id": "fZ6RODkvlROV",
        "colab_type": "code",
        "outputId": "459c733b-bcc9-4f2e-a68c-8168b33a4f93",
        "colab": {
          "base_uri": "https://localhost:8080/",
          "height": 203
        }
      },
      "source": [
        "optimizer = tf.train.GradientDescentOptimizer(learning_rate=0.1)\n",
        "train = optimizer.minimize(loss)\n",
        "\n",
        "for i in range(10):\n",
        "  _,loss_val = sess.run((train, loss))\n",
        "  print(\"Iter \",i, '. Loss', loss_val )"
      ],
      "execution_count": 0,
      "outputs": [
        {
          "output_type": "stream",
          "text": [
            "Iter  0 . Loss 0.25199348\n",
            "Iter  1 . Loss 0.218833\n",
            "Iter  2 . Loss 0.19201347\n",
            "Iter  3 . Loss 0.17032051\n",
            "Iter  4 . Loss 0.15277499\n",
            "Iter  5 . Loss 0.13894626\n",
            "Iter  6 . Loss 0.18755563\n",
            "Iter  7 . Loss 10.001505\n",
            "Iter  8 . Loss 1615.6956\n",
            "Iter  9 . Loss 264082.7\n"
          ],
          "name": "stdout"
        }
      ]
    },
    {
      "cell_type": "code",
      "metadata": {
        "id": "WYmXXrrhJorP",
        "colab_type": "code",
        "outputId": "0b227b57-bce8-4d9f-d4bd-8b77620892de",
        "colab": {
          "base_uri": "https://localhost:8080/",
          "height": 937
        }
      },
      "source": [
        "######\n",
        "# Scoping variables for low memory footprint\n",
        "######\n",
        "sess = tf.InteractiveSession()\n",
        "\n",
        "def func(w):\n",
        "  #x = tf.get_variable('x', initializer= tf.constant(5.0, \\\n",
        "  #                               shape = None, dtype=tf.float32 ))\n",
        "  x = tf.Variable(tf.constant(5.0,shape = None, dtype=tf.float32 ) )\n",
        "  z = x*w\n",
        "  return z\n",
        "\n",
        "#with tf.variable_scope('A', reuse=True):\n",
        "#  z1 = func(tf.constant(1.0,dtype=tf.float32))\n",
        "\n",
        "\n",
        "sess = tf.global_variables_initializer()#.run()\n",
        "sess.run(func(2))\n",
        "#sess.run([z1])"
      ],
      "execution_count": 0,
      "outputs": [
        {
          "output_type": "stream",
          "text": [
            "/usr/local/lib/python3.6/dist-packages/tensorflow/python/client/session.py:1714: UserWarning: An interactive session is already active. This can cause out-of-memory errors in some cases. You must explicitly call `InteractiveSession.close()` to release resources held by the other session(s).\n",
            "  warnings.warn('An interactive session is already active. This can '\n"
          ],
          "name": "stderr"
        },
        {
          "output_type": "error",
          "ename": "TypeError",
          "evalue": "ignored",
          "traceback": [
            "\u001b[0;31m---------------------------------------------------------------------------\u001b[0m",
            "\u001b[0;31mTypeError\u001b[0m                                 Traceback (most recent call last)",
            "\u001b[0;32m<ipython-input-21-5327f02839af>\u001b[0m in \u001b[0;36m<module>\u001b[0;34m()\u001b[0m\n\u001b[1;32m     13\u001b[0m \u001b[0;34m\u001b[0m\u001b[0m\n\u001b[1;32m     14\u001b[0m \u001b[0msess\u001b[0m \u001b[0;34m=\u001b[0m \u001b[0mtf\u001b[0m\u001b[0;34m.\u001b[0m\u001b[0mglobal_variables_initializer\u001b[0m\u001b[0;34m(\u001b[0m\u001b[0;34m)\u001b[0m\u001b[0;31m#.run()\u001b[0m\u001b[0;34m\u001b[0m\u001b[0m\n\u001b[0;32m---> 15\u001b[0;31m \u001b[0msess\u001b[0m\u001b[0;34m.\u001b[0m\u001b[0mrun\u001b[0m\u001b[0;34m(\u001b[0m\u001b[0mfunc\u001b[0m\u001b[0;34m(\u001b[0m\u001b[0;36m2\u001b[0m\u001b[0;34m)\u001b[0m\u001b[0;34m)\u001b[0m\u001b[0;34m\u001b[0m\u001b[0m\n\u001b[0m\u001b[1;32m     16\u001b[0m \u001b[0;31m#sess.run([z1])\u001b[0m\u001b[0;34m\u001b[0m\u001b[0;34m\u001b[0m\u001b[0m\n",
            "\u001b[0;32m/usr/local/lib/python3.6/dist-packages/tensorflow/python/framework/ops.py\u001b[0m in \u001b[0;36mrun\u001b[0;34m(self, feed_dict, session)\u001b[0m\n\u001b[1;32m   2397\u001b[0m         \u001b[0mnone\u001b[0m\u001b[0;34m,\u001b[0m \u001b[0mthe\u001b[0m \u001b[0mdefault\u001b[0m \u001b[0msession\u001b[0m \u001b[0mwill\u001b[0m \u001b[0mbe\u001b[0m \u001b[0mused\u001b[0m\u001b[0;34m.\u001b[0m\u001b[0;34m\u001b[0m\u001b[0m\n\u001b[1;32m   2398\u001b[0m     \"\"\"\n\u001b[0;32m-> 2399\u001b[0;31m     \u001b[0m_run_using_default_session\u001b[0m\u001b[0;34m(\u001b[0m\u001b[0mself\u001b[0m\u001b[0;34m,\u001b[0m \u001b[0mfeed_dict\u001b[0m\u001b[0;34m,\u001b[0m \u001b[0mself\u001b[0m\u001b[0;34m.\u001b[0m\u001b[0mgraph\u001b[0m\u001b[0;34m,\u001b[0m \u001b[0msession\u001b[0m\u001b[0;34m)\u001b[0m\u001b[0;34m\u001b[0m\u001b[0m\n\u001b[0m\u001b[1;32m   2400\u001b[0m \u001b[0;34m\u001b[0m\u001b[0m\n\u001b[1;32m   2401\u001b[0m \u001b[0m_gradient_registry\u001b[0m \u001b[0;34m=\u001b[0m \u001b[0mregistry\u001b[0m\u001b[0;34m.\u001b[0m\u001b[0mRegistry\u001b[0m\u001b[0;34m(\u001b[0m\u001b[0;34m\"gradient\"\u001b[0m\u001b[0;34m)\u001b[0m\u001b[0;34m\u001b[0m\u001b[0m\n",
            "\u001b[0;32m/usr/local/lib/python3.6/dist-packages/tensorflow/python/framework/ops.py\u001b[0m in \u001b[0;36m_run_using_default_session\u001b[0;34m(operation, feed_dict, graph, session)\u001b[0m\n\u001b[1;32m   5246\u001b[0m                        \u001b[0;34m\"the operation's graph is different from the session's \"\u001b[0m\u001b[0;34m\u001b[0m\u001b[0m\n\u001b[1;32m   5247\u001b[0m                        \"graph.\")\n\u001b[0;32m-> 5248\u001b[0;31m   \u001b[0msession\u001b[0m\u001b[0;34m.\u001b[0m\u001b[0mrun\u001b[0m\u001b[0;34m(\u001b[0m\u001b[0moperation\u001b[0m\u001b[0;34m,\u001b[0m \u001b[0mfeed_dict\u001b[0m\u001b[0;34m)\u001b[0m\u001b[0;34m\u001b[0m\u001b[0m\n\u001b[0m\u001b[1;32m   5249\u001b[0m \u001b[0;34m\u001b[0m\u001b[0m\n\u001b[1;32m   5250\u001b[0m \u001b[0;34m\u001b[0m\u001b[0m\n",
            "\u001b[0;32m/usr/local/lib/python3.6/dist-packages/tensorflow/python/client/session.py\u001b[0m in \u001b[0;36mrun\u001b[0;34m(self, fetches, feed_dict, options, run_metadata)\u001b[0m\n\u001b[1;32m    898\u001b[0m     \u001b[0;32mtry\u001b[0m\u001b[0;34m:\u001b[0m\u001b[0;34m\u001b[0m\u001b[0m\n\u001b[1;32m    899\u001b[0m       result = self._run(None, fetches, feed_dict, options_ptr,\n\u001b[0;32m--> 900\u001b[0;31m                          run_metadata_ptr)\n\u001b[0m\u001b[1;32m    901\u001b[0m       \u001b[0;32mif\u001b[0m \u001b[0mrun_metadata\u001b[0m\u001b[0;34m:\u001b[0m\u001b[0;34m\u001b[0m\u001b[0m\n\u001b[1;32m    902\u001b[0m         \u001b[0mproto_data\u001b[0m \u001b[0;34m=\u001b[0m \u001b[0mtf_session\u001b[0m\u001b[0;34m.\u001b[0m\u001b[0mTF_GetBuffer\u001b[0m\u001b[0;34m(\u001b[0m\u001b[0mrun_metadata_ptr\u001b[0m\u001b[0;34m)\u001b[0m\u001b[0;34m\u001b[0m\u001b[0m\n",
            "\u001b[0;32m/usr/local/lib/python3.6/dist-packages/tensorflow/python/client/session.py\u001b[0m in \u001b[0;36m_run\u001b[0;34m(self, handle, fetches, feed_dict, options, run_metadata)\u001b[0m\n\u001b[1;32m   1067\u001b[0m     \u001b[0;31m# Validate and process feed_dict.\u001b[0m\u001b[0;34m\u001b[0m\u001b[0;34m\u001b[0m\u001b[0m\n\u001b[1;32m   1068\u001b[0m     \u001b[0mfeed_handles\u001b[0m \u001b[0;34m=\u001b[0m \u001b[0;34m{\u001b[0m\u001b[0;34m}\u001b[0m\u001b[0;34m\u001b[0m\u001b[0m\n\u001b[0;32m-> 1069\u001b[0;31m     \u001b[0;32mif\u001b[0m \u001b[0mfeed_dict\u001b[0m\u001b[0;34m:\u001b[0m\u001b[0;34m\u001b[0m\u001b[0m\n\u001b[0m\u001b[1;32m   1070\u001b[0m       \u001b[0mfeed_dict\u001b[0m \u001b[0;34m=\u001b[0m \u001b[0mnest\u001b[0m\u001b[0;34m.\u001b[0m\u001b[0mflatten_dict_items\u001b[0m\u001b[0;34m(\u001b[0m\u001b[0mfeed_dict\u001b[0m\u001b[0;34m)\u001b[0m\u001b[0;34m\u001b[0m\u001b[0m\n\u001b[1;32m   1071\u001b[0m       \u001b[0;32mfor\u001b[0m \u001b[0mfeed\u001b[0m\u001b[0;34m,\u001b[0m \u001b[0mfeed_val\u001b[0m \u001b[0;32min\u001b[0m \u001b[0mfeed_dict\u001b[0m\u001b[0;34m.\u001b[0m\u001b[0mitems\u001b[0m\u001b[0;34m(\u001b[0m\u001b[0;34m)\u001b[0m\u001b[0;34m:\u001b[0m\u001b[0;34m\u001b[0m\u001b[0m\n",
            "\u001b[0;32m/usr/local/lib/python3.6/dist-packages/tensorflow/python/framework/ops.py\u001b[0m in \u001b[0;36m__bool__\u001b[0;34m(self)\u001b[0m\n\u001b[1;32m    663\u001b[0m       \u001b[0;31m`\u001b[0m\u001b[0mTypeError\u001b[0m\u001b[0;31m`\u001b[0m\u001b[0;34m.\u001b[0m\u001b[0;34m\u001b[0m\u001b[0m\n\u001b[1;32m    664\u001b[0m     \"\"\"\n\u001b[0;32m--> 665\u001b[0;31m     raise TypeError(\"Using a `tf.Tensor` as a Python `bool` is not allowed. \"\n\u001b[0m\u001b[1;32m    666\u001b[0m                     \u001b[0;34m\"Use `if t is not None:` instead of `if t:` to test if a \"\u001b[0m\u001b[0;34m\u001b[0m\u001b[0m\n\u001b[1;32m    667\u001b[0m                     \u001b[0;34m\"tensor is defined, and use TensorFlow ops such as \"\u001b[0m\u001b[0;34m\u001b[0m\u001b[0m\n",
            "\u001b[0;31mTypeError\u001b[0m: Using a `tf.Tensor` as a Python `bool` is not allowed. Use `if t is not None:` instead of `if t:` to test if a tensor is defined, and use TensorFlow ops such as tf.cond to execute subgraphs conditioned on the value of a tensor."
          ]
        }
      ]
    },
    {
      "cell_type": "code",
      "metadata": {
        "id": "G0RJ23ZVdQVr",
        "colab_type": "code",
        "colab": {}
      },
      "source": [
        ""
      ],
      "execution_count": 0,
      "outputs": []
    },
    {
      "cell_type": "code",
      "metadata": {
        "id": "q57T1o_9aHp0",
        "colab_type": "code",
        "colab": {}
      },
      "source": [
        "import tensorflow as tf"
      ],
      "execution_count": 0,
      "outputs": []
    },
    {
      "cell_type": "markdown",
      "metadata": {
        "id": "RxuYBurUlVb2",
        "colab_type": "text"
      },
      "source": [
        "# 3.0 Importing CSV Data\n",
        "\n",
        "tf.placeholders are great for small data and for simple programs but are not suited for large files or production system.\n",
        "\n",
        "### tf.data.Dataset : For large files"
      ]
    },
    {
      "cell_type": "code",
      "metadata": {
        "id": "kvsvkvJM2dz4",
        "colab_type": "code",
        "outputId": "932176d4-c3bf-42c8-9e7b-c39ffb690c67",
        "colab": {
          "base_uri": "https://localhost:8080/",
          "height": 132
        }
      },
      "source": [
        "import pandas as pd\n",
        "\n",
        "house_dt = pd.read_csv(\"https://storage.googleapis.com/mledu-datasets/california_housing_train.csv\", sep=\",\")\n",
        "house_dt.sample(2)"
      ],
      "execution_count": 0,
      "outputs": [
        {
          "output_type": "execute_result",
          "data": {
            "text/html": [
              "<div>\n",
              "<style scoped>\n",
              "    .dataframe tbody tr th:only-of-type {\n",
              "        vertical-align: middle;\n",
              "    }\n",
              "\n",
              "    .dataframe tbody tr th {\n",
              "        vertical-align: top;\n",
              "    }\n",
              "\n",
              "    .dataframe thead th {\n",
              "        text-align: right;\n",
              "    }\n",
              "</style>\n",
              "<table border=\"1\" class=\"dataframe\">\n",
              "  <thead>\n",
              "    <tr style=\"text-align: right;\">\n",
              "      <th></th>\n",
              "      <th>longitude</th>\n",
              "      <th>latitude</th>\n",
              "      <th>housing_median_age</th>\n",
              "      <th>total_rooms</th>\n",
              "      <th>total_bedrooms</th>\n",
              "      <th>population</th>\n",
              "      <th>households</th>\n",
              "      <th>median_income</th>\n",
              "      <th>median_house_value</th>\n",
              "    </tr>\n",
              "  </thead>\n",
              "  <tbody>\n",
              "    <tr>\n",
              "      <th>16256</th>\n",
              "      <td>-122.49</td>\n",
              "      <td>37.98</td>\n",
              "      <td>34.0</td>\n",
              "      <td>1256.0</td>\n",
              "      <td>178.0</td>\n",
              "      <td>460.0</td>\n",
              "      <td>174.0</td>\n",
              "      <td>6.4271</td>\n",
              "      <td>451700.0</td>\n",
              "    </tr>\n",
              "    <tr>\n",
              "      <th>16616</th>\n",
              "      <td>-122.71</td>\n",
              "      <td>38.33</td>\n",
              "      <td>13.0</td>\n",
              "      <td>4011.0</td>\n",
              "      <td>936.0</td>\n",
              "      <td>2064.0</td>\n",
              "      <td>914.0</td>\n",
              "      <td>3.6953</td>\n",
              "      <td>157600.0</td>\n",
              "    </tr>\n",
              "  </tbody>\n",
              "</table>\n",
              "</div>"
            ],
            "text/plain": [
              "       longitude  latitude  housing_median_age  total_rooms  total_bedrooms  \\\n",
              "16256    -122.49     37.98                34.0       1256.0           178.0   \n",
              "16616    -122.71     38.33                13.0       4011.0           936.0   \n",
              "\n",
              "       population  households  median_income  median_house_value  \n",
              "16256       460.0       174.0         6.4271            451700.0  \n",
              "16616      2064.0       914.0         3.6953            157600.0  "
            ]
          },
          "metadata": {
            "tags": []
          },
          "execution_count": 17
        }
      ]
    },
    {
      "cell_type": "code",
      "metadata": {
        "id": "Bh2X690s5idx",
        "colab_type": "code",
        "outputId": "a7e4d19b-b310-47f5-afcd-214ad3033714",
        "colab": {
          "base_uri": "https://localhost:8080/",
          "height": 206
        }
      },
      "source": [
        "house_small = house_dt[0:5][['total_rooms','population']] #[0:5]#.sample(5)\n",
        "house_small"
      ],
      "execution_count": 0,
      "outputs": [
        {
          "output_type": "execute_result",
          "data": {
            "text/html": [
              "<div>\n",
              "<style scoped>\n",
              "    .dataframe tbody tr th:only-of-type {\n",
              "        vertical-align: middle;\n",
              "    }\n",
              "\n",
              "    .dataframe tbody tr th {\n",
              "        vertical-align: top;\n",
              "    }\n",
              "\n",
              "    .dataframe thead th {\n",
              "        text-align: right;\n",
              "    }\n",
              "</style>\n",
              "<table border=\"1\" class=\"dataframe\">\n",
              "  <thead>\n",
              "    <tr style=\"text-align: right;\">\n",
              "      <th></th>\n",
              "      <th>total_rooms</th>\n",
              "      <th>population</th>\n",
              "    </tr>\n",
              "  </thead>\n",
              "  <tbody>\n",
              "    <tr>\n",
              "      <th>0</th>\n",
              "      <td>5612.0</td>\n",
              "      <td>1015.0</td>\n",
              "    </tr>\n",
              "    <tr>\n",
              "      <th>1</th>\n",
              "      <td>7650.0</td>\n",
              "      <td>1129.0</td>\n",
              "    </tr>\n",
              "    <tr>\n",
              "      <th>2</th>\n",
              "      <td>720.0</td>\n",
              "      <td>333.0</td>\n",
              "    </tr>\n",
              "    <tr>\n",
              "      <th>3</th>\n",
              "      <td>1501.0</td>\n",
              "      <td>515.0</td>\n",
              "    </tr>\n",
              "    <tr>\n",
              "      <th>4</th>\n",
              "      <td>1454.0</td>\n",
              "      <td>624.0</td>\n",
              "    </tr>\n",
              "  </tbody>\n",
              "</table>\n",
              "</div>"
            ],
            "text/plain": [
              "   total_rooms  population\n",
              "0       5612.0      1015.0\n",
              "1       7650.0      1129.0\n",
              "2        720.0       333.0\n",
              "3       1501.0       515.0\n",
              "4       1454.0       624.0"
            ]
          },
          "metadata": {
            "tags": []
          },
          "execution_count": 32
        }
      ]
    },
    {
      "cell_type": "code",
      "metadata": {
        "id": "-13SgNbe6FtJ",
        "colab_type": "code",
        "outputId": "aef30ee0-b22d-49d5-9790-95a844362604",
        "colab": {
          "base_uri": "https://localhost:8080/",
          "height": 206
        }
      },
      "source": [
        "house_small.reindex([2,3,4,0,1])\n",
        "#city[['longitude', 'latitude'] ][0:2]"
      ],
      "execution_count": 0,
      "outputs": [
        {
          "output_type": "execute_result",
          "data": {
            "text/html": [
              "<div>\n",
              "<style scoped>\n",
              "    .dataframe tbody tr th:only-of-type {\n",
              "        vertical-align: middle;\n",
              "    }\n",
              "\n",
              "    .dataframe tbody tr th {\n",
              "        vertical-align: top;\n",
              "    }\n",
              "\n",
              "    .dataframe thead th {\n",
              "        text-align: right;\n",
              "    }\n",
              "</style>\n",
              "<table border=\"1\" class=\"dataframe\">\n",
              "  <thead>\n",
              "    <tr style=\"text-align: right;\">\n",
              "      <th></th>\n",
              "      <th>total_rooms</th>\n",
              "      <th>population</th>\n",
              "    </tr>\n",
              "  </thead>\n",
              "  <tbody>\n",
              "    <tr>\n",
              "      <th>2</th>\n",
              "      <td>720.0</td>\n",
              "      <td>333.0</td>\n",
              "    </tr>\n",
              "    <tr>\n",
              "      <th>3</th>\n",
              "      <td>1501.0</td>\n",
              "      <td>515.0</td>\n",
              "    </tr>\n",
              "    <tr>\n",
              "      <th>4</th>\n",
              "      <td>1454.0</td>\n",
              "      <td>624.0</td>\n",
              "    </tr>\n",
              "    <tr>\n",
              "      <th>0</th>\n",
              "      <td>5612.0</td>\n",
              "      <td>1015.0</td>\n",
              "    </tr>\n",
              "    <tr>\n",
              "      <th>1</th>\n",
              "      <td>7650.0</td>\n",
              "      <td>1129.0</td>\n",
              "    </tr>\n",
              "  </tbody>\n",
              "</table>\n",
              "</div>"
            ],
            "text/plain": [
              "   total_rooms  population\n",
              "2        720.0       333.0\n",
              "3       1501.0       515.0\n",
              "4       1454.0       624.0\n",
              "0       5612.0      1015.0\n",
              "1       7650.0      1129.0"
            ]
          },
          "metadata": {
            "tags": []
          },
          "execution_count": 34
        }
      ]
    },
    {
      "cell_type": "code",
      "metadata": {
        "id": "yWYAEYBz6wFU",
        "colab_type": "code",
        "cellView": "both",
        "colab": {}
      },
      "source": [
        "Epoch = 0 #@param {type:\"integer\"}\n",
        "# Reindexing is a excellent way to make sure that no biad feeds into the data\n"
      ],
      "execution_count": 0,
      "outputs": []
    },
    {
      "cell_type": "code",
      "metadata": {
        "id": "09TwD8FQ88-2",
        "colab_type": "code",
        "colab": {}
      },
      "source": [
        ""
      ],
      "execution_count": 0,
      "outputs": []
    }
  ]
}